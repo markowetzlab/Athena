{
 "cells": [
  {
   "cell_type": "code",
   "execution_count": 1,
   "id": "80594ad8-4622-4276-b82d-937d2aedea02",
   "metadata": {},
   "outputs": [],
   "source": [
    "import os\n",
    "import random\n",
    "import shutil\n",
    "import numpy as np\n",
    "import pandas as pd\n",
    "import seaborn as sns\n",
    "from tqdm import tqdm\n",
    "from athena import Athena\n",
    "import matplotlib.pyplot as plt"
   ]
  },
  {
   "cell_type": "markdown",
   "id": "63b1528f-9343-478b-af7d-e7ce8430d291",
   "metadata": {
    "tags": []
   },
   "source": [
    "# How to Run Simulations with Athena\n",
    "\n",
    "### First Step: Initialize Simulation Parameters\n",
    "\n",
    "Athena enables you to simulate Single Cell CRISPR Screens. Before you can run simulations you need to provide Athena with simulation parameters most noteably: on target activity, off target activity, type of CRISPR pertubation, number of Transcription Factors (TFs), number of E-genes, number of kinases, and the number of signalling cascades you want to simulate. Additional parameters you can provide include the number of cells per condition to simulate to where directory to store simulation data.\n",
    "\n",
    "It's important to note that when initializing the Athena class is when you pass the parameters to Athena. All methods afterwards do not require or do not take any parameters."
   ]
  },
  {
   "cell_type": "code",
   "execution_count": 2,
   "id": "d4c2252c-3e7e-4d4b-9830-bbe9ef72f978",
   "metadata": {},
   "outputs": [
    {
     "name": "stdout",
     "output_type": "stream",
     "text": [
      "Initiate Environmental Parameters...\n",
      "Check the caches...\n",
      "Setup Simulator Directory...\n",
      "Check Network Parameters...\n",
      "Check gRNA Parameters...\n",
      "Check Simulation Parameters...\n",
      "Check Downsampling Parameters...\n"
     ]
    }
   ],
   "source": [
    "athena = Athena(tau=0.1,\n",
    "                negenes=200,\n",
    "                nkinases=15,\n",
    "                ncascades=3, \n",
    "                ncpus=3, nbatches=1,\n",
    "                ngrnas_per_target=1,\n",
    "                ncells_per_condition=1000)\n",
    "                # crispr_type='Knockout',\n",
    "\n",
    "\n",
    "# athena.create_network()\n",
    "# athena.initialize_kinetics()"
   ]
  },
  {
   "cell_type": "markdown",
   "id": "9011025a-3436-4110-85bb-415e7416f6cd",
   "metadata": {},
   "source": [
    "### Second Step: Create Gene Regulatory Network and Signalling Cascade\n",
    "\n",
    "Both Gene Regulator Networks and Signalling Cascades are created using Modular Sampling method originally developed by GeneNetWeaver. This modular sampling method allows us to capture the scale-free and modular nature of biologically networks in comparison to an other scale-free random sampling method. Thereby allowing us to better represent the flow between reactions that occurs in biological networks.\n",
    "\n",
    "**No Parameters Avaliable**"
   ]
  },
  {
   "cell_type": "code",
   "execution_count": null,
   "id": "faca3649-d1ab-4f95-b66c-d474b337df2d",
   "metadata": {},
   "outputs": [],
   "source": [
    "athena.create_network()"
   ]
  },
  {
   "cell_type": "markdown",
   "id": "ef208c73-7df9-499e-9c27-af93d80a1e49",
   "metadata": {},
   "source": [
    "### Third Step:  Initialize Reaction Kinectics\n",
    "\n",
    "Next we need to initialize reaction kinetics of both our GRN and Signalling Cascade.\n",
    "\n",
    "**No Parameters Avaliable**"
   ]
  },
  {
   "cell_type": "code",
   "execution_count": null,
   "id": "d8894911-2849-4cb1-ab46-33646fb0ce4d",
   "metadata": {},
   "outputs": [],
   "source": [
    "athena.initialize_kinetics()"
   ]
  },
  {
   "cell_type": "markdown",
   "id": "9b64ddfd-12ee-4ec1-8593-bf2b066e5f1a",
   "metadata": {},
   "source": [
    "### Fourth Step: Create Guide RNA Metadata\n",
    "\n",
    "Creating gRNA Metadata and Perturbation Coefficient Matrix.\n",
    "\n",
    "**Parameters Avaliable**\n",
    "\n",
    "- crispr_type: The type of CRISPR perturbation that you want to simulate. Only three types of CRISPR perturbations are currently supported: Interference, Activation, and Knockout"
   ]
  },
  {
   "cell_type": "code",
   "execution_count": null,
   "id": "fb610166-30a0-4b91-977a-44f190827613",
   "metadata": {},
   "outputs": [],
   "source": [
    "athena.generate_grnas(crispr_type='Interference', on_target=0.0, off_target=0)\n",
    "# print (sim_name, gene, gene_on_target, value, ko_combos[col])"
   ]
  },
  {
   "cell_type": "markdown",
   "id": "66988bba-ef19-48c1-af89-c89eabf0d354",
   "metadata": {},
   "source": [
    "### Fifth Step:  Compile Reactions for Simulation\n",
    "\n",
    "Once we have initialized the kinetics and create gRNA metadata we need to convert all of this information in complied affinity and propensity probability calculation. This is required for the novel GPU Based Gillespie Algorithm.\n",
    "\n",
    "**No Parameters Avaliable**"
   ]
  },
  {
   "cell_type": "code",
   "execution_count": null,
   "id": "85d19d63-aa53-44ec-99b9-b0d7c80dd0f7",
   "metadata": {
    "scrolled": true,
    "tags": []
   },
   "outputs": [],
   "source": [
    "athena.compiling()"
   ]
  },
  {
   "cell_type": "markdown",
   "id": "76f72a05-ddd5-4ce4-ac80-10e25aba61a4",
   "metadata": {},
   "source": [
    "### Sixith Step: Run Gillispie Tau Leaping Algorithm\n",
    "\n",
    "Now that we have compiled the chemical reactions we can run our simulations. Athena uses a opencl implementation of the Gillespie Tau-Leaping Algorithm. Which means Athena is CPU and GPU compatible. However, for obvious reasons using a GPU dramatically increases the speed of any simulation you want to run.\n",
    "\n",
    "**No Parameters Avaliable**"
   ]
  },
  {
   "cell_type": "code",
   "execution_count": null,
   "id": "de4c771a-6c5e-4074-abb1-e10c7ab00ec8",
   "metadata": {
    "scrolled": true,
    "tags": []
   },
   "outputs": [],
   "source": [
    "athena.run()"
   ]
  },
  {
   "cell_type": "markdown",
   "id": "904d1862-26f7-4d0f-8e98-2bf9b65d771d",
   "metadata": {},
   "source": [
    "### Seventh Step: Sample Cells and Downsample Counts\n",
    "\n",
    "Now that we have simulated cells we can randomly sample our cells and downsample our cells mRNA counts. Athena downsamples simulated cells mRNA counts using the a reference single cell dataset to parameterize both the number of mRNAs the cell will have (also known as a cells library size) and probability that a given mRNA of a given gene is sampled. \n",
    "\n",
    "**Parameters Avaliable**\n",
    "\n",
    "- ncells: number of cells you want to sample from simulated cells\n",
    "- pop_fp: file path to a loom file that is scanpy compatible that contains single cell dataset. If provided will use the provided dataset to downsample counts instead of internal single cell populations."
   ]
  },
  {
   "cell_type": "code",
   "execution_count": null,
   "id": "b310a1e0-ef3b-4821-a8b1-3e1b8d2ecee0",
   "metadata": {
    "scrolled": true,
    "tags": []
   },
   "outputs": [],
   "source": [
    "cells_meta, gene_expr = athena.sample(ncells=1000, sim_fp='athena/results/simulated_counts.csv.gz')"
   ]
  },
  {
   "cell_type": "markdown",
   "id": "71cacd25-99d9-45e6-a909-b4150854f7dd",
   "metadata": {},
   "source": [
    "### Checking Library Sizes"
   ]
  },
  {
   "cell_type": "code",
   "execution_count": null,
   "id": "f0483dd1-0bd5-4371-8927-269fde1b51ce",
   "metadata": {},
   "outputs": [],
   "source": [
    "cells_meta['mat_lib_size'] = gene_expr.sum(axis=1)\n",
    "cells_meta[['lib_size', 'mat_lib_size']]"
   ]
  },
  {
   "cell_type": "markdown",
   "id": "59614170-4980-409e-b9fd-4d16467ff8d0",
   "metadata": {},
   "source": [
    "# Visualizing Gene Expression of Gillespie SSA\n",
    "\n",
    "Now that we conducted a simulation let's see the effects our perturbations have upon our target genes. As we can see when using a Knockout CRISPR type all perturbed cells have count of zero for our target gene. In addition, these perturbations dramatically alter the expression level of multiple genes demonstrating that our simulated cells have been perturbed."
   ]
  },
  {
   "cell_type": "code",
   "execution_count": null,
   "id": "8efd15e9-7409-4916-80dd-9a38be53425c",
   "metadata": {},
   "outputs": [],
   "source": [
    "cell_sim_meta = pd.read_csv(f'{athena.results_dir}/cell_metadata.csv.gz')\n",
    "simulations = pd.read_csv(f'{athena.results_dir}/simulated_counts.csv.gz')\n",
    "\n",
    "grna_meta = cell_sim_meta.drop_duplicates(subset=['sim_name']).copy()\n",
    "grna_meta['perturbed_gene'] = grna_meta['sim_name'].apply(lambda x: x.split('-grna')[0])\n",
    "genes_to_plot = list(\"mol_mrna_\" + grna_meta['perturbed_gene'].loc[grna_meta.perturbed_gene != 'CTRL'].values)"
   ]
  },
  {
   "cell_type": "code",
   "execution_count": null,
   "id": "d83cd3e9-09f9-4234-92be-5d50d09065bc",
   "metadata": {},
   "outputs": [],
   "source": [
    "df = {\"mol_counts\": [], \"mol\": [], \"time_step\": [], \"sim_index\": [], \"perturbed_gene\": []}\n",
    "\n",
    "for index, row in grna_meta.iterrows():\n",
    "    \n",
    "    for gene in genes_to_plot:\n",
    "        index_locs = cell_sim_meta.loc[cell_sim_meta.sim_i == row.sim_i].index.values\n",
    "        sim = simulations[gene].iloc[index_locs]\n",
    "        sim = sim.reset_index(drop=True)\n",
    "        \n",
    "        df['time_step'] = df['time_step'] + list(sim.index)\n",
    "        df['mol_counts'] = df['mol_counts'] + list(sim.values)\n",
    "        df['mol'] = df['mol'] + [gene] * len(list(sim.values))\n",
    "        df['sim_index'] = df['sim_index'] + [row.sim_i] * len(list(sim.values))\n",
    "        df['perturbed_gene'] = df['perturbed_gene'] + [row.perturbed_gene] * len(list(sim.values))\n",
    "    \n",
    "df = pd.DataFrame(df)"
   ]
  },
  {
   "cell_type": "code",
   "execution_count": null,
   "id": "b97987e6-24d8-4d23-af26-51154e0a6375",
   "metadata": {
    "scrolled": true,
    "tags": []
   },
   "outputs": [],
   "source": [
    "for gene in tqdm(df.perturbed_gene.unique()):\n",
    "    gene_df = df.loc[df.perturbed_gene == gene]\n",
    "    \n",
    "    plt.figure(figsize=(9, 6))\n",
    "    sns.lineplot(data=gene_df, x='time_step', y='mol_counts', hue='mol')\n",
    "    plt.legend(bbox_to_anchor=(1,1), loc=\"upper left\")\n",
    "    plt.title(f'Perturbed Gene: {gene}')\n",
    "    plt.show()"
   ]
  },
  {
   "cell_type": "code",
   "execution_count": null,
   "id": "e4a3b79f-f2e5-4153-92c6-9d16cf08e5cd",
   "metadata": {},
   "outputs": [],
   "source": [
    "for gene in tqdm(df.perturbed_gene.unique()):\n",
    "    \n",
    "    if gene == athena.ctrl_label:\n",
    "        continue\n",
    "    \n",
    "    mol = 'mol_mrna_' + gene\n",
    "    gene_df = df.loc[df.perturbed_gene == gene]\n",
    "    mol_counts = gene_df.loc[gene_df.mol == mol, 'mol_counts'].unique()\n",
    "    \n",
    "    print (f\"Perturbed Gene: {gene} Unique Counts: {mol_counts}\")"
   ]
  },
  {
   "cell_type": "code",
   "execution_count": null,
   "id": "1f63f9db-da14-4d19-a666-96bb3d3656c2",
   "metadata": {},
   "outputs": [],
   "source": []
  }
 ],
 "metadata": {
  "kernelspec": {
   "display_name": "gpunodes_opencl",
   "language": "python",
   "name": "gpunodes_opencl"
  },
  "language_info": {
   "codemirror_mode": {
    "name": "ipython",
    "version": 3
   },
   "file_extension": ".py",
   "mimetype": "text/x-python",
   "name": "python",
   "nbconvert_exporter": "python",
   "pygments_lexer": "ipython3",
   "version": "3.10.4"
  }
 },
 "nbformat": 4,
 "nbformat_minor": 5
}
