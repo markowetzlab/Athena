{
 "cells": [
  {
   "cell_type": "code",
   "execution_count": null,
   "id": "d32829eb-0103-436d-8ad6-c0119c3d9608",
   "metadata": {},
   "outputs": [],
   "source": []
  }
 ],
 "metadata": {
  "kernelspec": {
   "display_name": "opencl",
   "language": "python",
   "name": "opencl"
  },
  "language_info": {
   "codemirror_mode": {
    "name": "ipython",
    "version": 3
   },
   "file_extension": ".py",
   "mimetype": "text/x-python",
   "name": "python",
   "nbconvert_exporter": "python",
   "pygments_lexer": "ipython3",
   "version": "3.10.2"
  }
 },
 "nbformat": 4,
 "nbformat_minor": 5
}
